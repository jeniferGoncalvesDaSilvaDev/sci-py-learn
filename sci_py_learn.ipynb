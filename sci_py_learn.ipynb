{
  "nbformat": 4,
  "nbformat_minor": 0,
  "metadata": {
    "colab": {
      "provenance": [],
      "authorship_tag": "ABX9TyNL/S9HNDFU7a5hLVdBcozr",
      "include_colab_link": true
    },
    "kernelspec": {
      "name": "python3",
      "display_name": "Python 3"
    },
    "language_info": {
      "name": "python"
    }
  },
  "cells": [
    {
      "cell_type": "markdown",
      "metadata": {
        "id": "view-in-github",
        "colab_type": "text"
      },
      "source": [
        "<a href=\"https://colab.research.google.com/github/jeniferGoncalvesDaSilvaDev/sci-py-learn/blob/main/sci_py_learn.ipynb\" target=\"_parent\"><img src=\"https://colab.research.google.com/assets/colab-badge.svg\" alt=\"Open In Colab\"/></a>"
      ]
    },
    {
      "cell_type": "code",
      "execution_count": 1,
      "metadata": {
        "id": "LDCu00Lrzsms"
      },
      "outputs": [],
      "source": [
        "import numpy as np\n",
        "from matplotlib import pyplot as plt\n",
        "import scipy as sp"
      ]
    },
    {
      "cell_type": "code",
      "source": [
        "#otimização\n",
        "from scipy.optimize import minimize\n",
        "\n",
        "#minimizar o resultado de uma equação\n",
        "#ex: f(x) (x-3)*r**2\n",
        "def f(x):\n",
        "   return (x-3)**2\n",
        "res = minimize(f,2)\n",
        "print(res)"
      ],
      "metadata": {
        "id": "AIXfmwZ41VCi",
        "outputId": "163680dd-4ddf-4eae-d46c-6c9f65068bd4",
        "colab": {
          "base_uri": "https://localhost:8080/"
        }
      },
      "execution_count": 3,
      "outputs": [
        {
          "output_type": "stream",
          "name": "stdout",
          "text": [
            "  message: Optimization terminated successfully.\n",
            "  success: True\n",
            "   status: 0\n",
            "      fun: 5.551437397369767e-17\n",
            "        x: [ 3.000e+00]\n",
            "      nit: 2\n",
            "      jac: [-4.325e-13]\n",
            " hess_inv: [[ 5.000e-01]]\n",
            "     nfev: 6\n",
            "     njev: 3\n"
          ]
        }
      ]
    },
    {
      "cell_type": "code",
      "source": [
        "res.x"
      ],
      "metadata": {
        "id": "2FqAr3742psl",
        "outputId": "0b7978a2-d233-4f34-9fda-5731f446d2b9",
        "colab": {
          "base_uri": "https://localhost:8080/"
        }
      },
      "execution_count": 4,
      "outputs": [
        {
          "output_type": "execute_result",
          "data": {
            "text/plain": [
              "array([2.99999999])"
            ]
          },
          "metadata": {},
          "execution_count": 4
        }
      ]
    },
    {
      "cell_type": "code",
      "source": [],
      "metadata": {
        "id": "7T8d9caL298L"
      },
      "execution_count": null,
      "outputs": []
    }
  ]
}