{
  "nbformat": 4,
  "nbformat_minor": 0,
  "metadata": {
    "colab": {
      "provenance": [],
      "authorship_tag": "ABX9TyP8nBRPG5St3HoJF4luFgvY",
      "include_colab_link": true
    },
    "kernelspec": {
      "name": "python3",
      "display_name": "Python 3"
    },
    "language_info": {
      "name": "python"
    }
  },
  "cells": [
    {
      "cell_type": "markdown",
      "metadata": {
        "id": "view-in-github",
        "colab_type": "text"
      },
      "source": [
        "<a href=\"https://colab.research.google.com/github/jeniferGoncalvesDaSilvaDev/sci-py-learn/blob/main/sci_py_learn.ipynb\" target=\"_parent\"><img src=\"https://colab.research.google.com/assets/colab-badge.svg\" alt=\"Open In Colab\"/></a>"
      ]
    },
    {
      "cell_type": "code",
      "execution_count": 5,
      "metadata": {
        "id": "LDCu00Lrzsms"
      },
      "outputs": [],
      "source": [
        "import numpy as np\n",
        "from matplotlib import pyplot as plt\n",
        "import scipy as sp"
      ]
    },
    {
      "cell_type": "code",
      "source": [
        "#otimização\n",
        "from scipy.optimize import minimize\n",
        "\n",
        "#minimizar o resultado de uma equação\n",
        "#ex: f(x) (x-3)*r**2\n",
        "def f(x):\n",
        "   return (x-3)**2\n",
        "res = minimize(f,2)\n",
        "print(res)"
      ],
      "metadata": {
        "id": "AIXfmwZ41VCi",
        "outputId": "8fc03c83-345c-4148-cba0-f3218e8e271b",
        "colab": {
          "base_uri": "https://localhost:8080/"
        }
      },
      "execution_count": 6,
      "outputs": [
        {
          "output_type": "stream",
          "name": "stdout",
          "text": [
            "  message: Optimization terminated successfully.\n",
            "  success: True\n",
            "   status: 0\n",
            "      fun: 5.551437397369767e-17\n",
            "        x: [ 3.000e+00]\n",
            "      nit: 2\n",
            "      jac: [-4.325e-13]\n",
            " hess_inv: [[ 5.000e-01]]\n",
            "     nfev: 6\n",
            "     njev: 3\n"
          ]
        }
      ]
    },
    {
      "cell_type": "code",
      "source": [
        "res.x"
      ],
      "metadata": {
        "id": "2FqAr3742psl",
        "outputId": "16d4ef02-4a1a-4679-99d0-9fab4467d3b0",
        "colab": {
          "base_uri": "https://localhost:8080/"
        }
      },
      "execution_count": 7,
      "outputs": [
        {
          "output_type": "execute_result",
          "data": {
            "text/plain": [
              "array([2.99999999])"
            ]
          },
          "metadata": {},
          "execution_count": 7
        }
      ]
    },
    {
      "cell_type": "code",
      "source": [
        "#minimizar f(x,y)=(x-1)**2+(y-2,5)**2\n",
        "f =lambda x:(x[0]-1)**2 + (x[1]-2.5)**2\n",
        "\n",
        "f([1,2])"
      ],
      "metadata": {
        "id": "7T8d9caL298L",
        "outputId": "211c4377-9bb9-4302-bccd-f5d606f2e273",
        "colab": {
          "base_uri": "https://localhost:8080/"
        }
      },
      "execution_count": 8,
      "outputs": [
        {
          "output_type": "execute_result",
          "data": {
            "text/plain": [
              "0.25"
            ]
          },
          "metadata": {},
          "execution_count": 8
        }
      ]
    },
    {
      "cell_type": "code",
      "source": [],
      "metadata": {
        "id": "8O2IJKje67Rb"
      },
      "execution_count": null,
      "outputs": []
    }
  ]
}